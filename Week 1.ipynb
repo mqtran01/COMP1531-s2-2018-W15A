{
 "cells": [
  {
   "cell_type": "code",
   "execution_count": 1,
   "metadata": {},
   "outputs": [
    {
     "name": "stdout",
     "output_type": "stream",
     "text": [
      "Hello World\n"
     ]
    }
   ],
   "source": [
    "print(\"Hello World\")"
   ]
  },
  {
   "cell_type": "code",
   "execution_count": 2,
   "metadata": {},
   "outputs": [],
   "source": [
    "names = ['Bob', 'Michael', 'Kevin', 'Sally']"
   ]
  },
  {
   "cell_type": "code",
   "execution_count": 3,
   "metadata": {},
   "outputs": [
    {
     "name": "stdout",
     "output_type": "stream",
     "text": [
      "Bob\n"
     ]
    }
   ],
   "source": [
    "print(names[0])"
   ]
  },
  {
   "cell_type": "code",
   "execution_count": 7,
   "metadata": {},
   "outputs": [
    {
     "ename": "IndentationError",
     "evalue": "unexpected indent (<ipython-input-7-4a2d5ad472f6>, line 4)",
     "output_type": "error",
     "traceback": [
      "\u001b[0;36m  File \u001b[0;32m\"<ipython-input-7-4a2d5ad472f6>\"\u001b[0;36m, line \u001b[0;32m4\u001b[0m\n\u001b[0;31m    print(\"hello\")\u001b[0m\n\u001b[0m    ^\u001b[0m\n\u001b[0;31mIndentationError\u001b[0m\u001b[0;31m:\u001b[0m unexpected indent\n"
     ]
    }
   ],
   "source": [
    "for i in names:\n",
    "    if len(i) == 5:\n",
    "        print(i)"
   ]
  },
  {
   "cell_type": "code",
   "execution_count": 9,
   "metadata": {},
   "outputs": [
    {
     "name": "stdout",
     "output_type": "stream",
     "text": [
      "Gimme a number! 4\n",
      "340\n"
     ]
    }
   ],
   "source": [
    "n = int(input('Gimme a number! '))\n",
    "\n",
    "sum_total = 0\n",
    "for i in range(1, n + 1):\n",
    "    sum_total += n ** i\n",
    "\n",
    "print(sum_total)\n"
   ]
  },
  {
   "cell_type": "code",
   "execution_count": null,
   "metadata": {},
   "outputs": [],
   "source": [
    "range(n): 0..n-1\n",
    "    \n",
    "range(a, n): a..n-1\n",
    "    \n",
    "range(a, n, s): a, a+s, a+2s, ..., <n"
   ]
  },
  {
   "cell_type": "code",
   "execution_count": 10,
   "metadata": {},
   "outputs": [
    {
     "name": "stdout",
     "output_type": "stream",
     "text": [
      "4\n",
      "hello\n",
      "world\n",
      "I\n",
      "sleep\n",
      "hello world I sleep\n"
     ]
    }
   ],
   "source": [
    "n = int(input())\n",
    "\n",
    "words = []\n",
    "for i in range(n):\n",
    "    words.append(input())\n",
    "    \n",
    "joined_string = ' '.join(words)\n",
    "# This is a comment\n",
    "\"\"\"This is a\n",
    "    multiline comment\n",
    "\"\"\"\n",
    "print(joined_string)"
   ]
  },
  {
   "cell_type": "code",
   "execution_count": 11,
   "metadata": {},
   "outputs": [
    {
     "name": "stdout",
     "output_type": "stream",
     "text": [
      "3\n"
     ]
    }
   ],
   "source": [
    "base_string = 'aabbaacbabaca'\n",
    "substring = 'ba'\n",
    "\n",
    "\n",
    "counter = 0\n",
    "for i in range(len(base_string)):\n",
    "    if base_string[i:].startswith(substring):\n",
    "        counter += 1\n",
    "\n",
    "# base_string[1]\n",
    "        \n",
    "print(counter)\n"
   ]
  },
  {
   "cell_type": "code",
   "execution_count": 16,
   "metadata": {},
   "outputs": [
    {
     "name": "stdout",
     "output_type": "stream",
     "text": [
      "hello world, I am Bob and I am 101 years old\n",
      "hello world, I am Bob and I am 101 years old\n",
      "hello world, I am Bob and I am 101 years old\n"
     ]
    }
   ],
   "source": [
    "age = 101\n",
    "name = 'Bob'\n",
    "\n",
    "print(f'hello world, I am {name} and I am {age} years old')\n",
    "print('hello world, I am {1} and I am {0} years old'.format(age, name))\n",
    "print('hello world, I am %s and I am %d years old' % (name, age))"
   ]
  },
  {
   "cell_type": "code",
   "execution_count": 18,
   "metadata": {},
   "outputs": [
    {
     "name": "stdout",
     "output_type": "stream",
     "text": [
      "hello worldok bye\n"
     ]
    }
   ],
   "source": [
    "print(\"hello world\", end='', sep=)\n",
    "print('ok bye')"
   ]
  },
  {
   "cell_type": "code",
   "execution_count": null,
   "metadata": {},
   "outputs": [],
   "source": [
    "def function_name(args):\n",
    "    fjhsbgkdfsl"
   ]
  }
 ],
 "metadata": {
  "kernelspec": {
   "display_name": "Python 3",
   "language": "python",
   "name": "python3"
  },
  "language_info": {
   "codemirror_mode": {
    "name": "ipython",
    "version": 3
   },
   "file_extension": ".py",
   "mimetype": "text/x-python",
   "name": "python",
   "nbconvert_exporter": "python",
   "pygments_lexer": "ipython3",
   "version": "3.6.4"
  }
 },
 "nbformat": 4,
 "nbformat_minor": 2
}
